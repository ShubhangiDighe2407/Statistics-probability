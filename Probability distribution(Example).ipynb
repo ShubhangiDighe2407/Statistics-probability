{
 "cells": [
  {
   "cell_type": "markdown",
   "id": "70d23c02",
   "metadata": {},
   "source": [
    "# Binomial distribution\n",
    "* Que1-A box of candies has many different colors in it.There is a 15% chance of getting a pink candy.What is the probability that exactly 4 candies in a box are pink out of 10?"
   ]
  },
  {
   "cell_type": "code",
   "execution_count": 2,
   "id": "f5b809d0",
   "metadata": {},
   "outputs": [],
   "source": [
    "from scipy.stats import binom,hypergeom,poisson,nbinom,expon,norm\n",
    "import matplotlib.pyplot as plt\n",
    "import pandas as pd\n",
    "import numpy as np "
   ]
  },
  {
   "cell_type": "code",
   "execution_count": 2,
   "id": "7073ffb5",
   "metadata": {},
   "outputs": [
    {
     "data": {
      "text/plain": [
       "0.04009570787988276"
      ]
     },
     "execution_count": 2,
     "metadata": {},
     "output_type": "execute_result"
    }
   ],
   "source": [
    "binom.pmf(4,10,0.15)  #x=4,n=10,p=0.15"
   ]
  },
  {
   "cell_type": "markdown",
   "id": "40966138",
   "metadata": {},
   "source": [
    "* Que2: If from six to seven in the evening one telephone line in every five is engaged in a conversation: what is the probability that when 10 telephone numbers are chosen at random, only two are in use"
   ]
  },
  {
   "cell_type": "code",
   "execution_count": 12,
   "id": "b1f1a4a2",
   "metadata": {},
   "outputs": [
    {
     "data": {
      "text/plain": [
       "0.30198988800000004"
      ]
     },
     "execution_count": 12,
     "metadata": {},
     "output_type": "execute_result"
    }
   ],
   "source": [
    "binom.pmf(2,10,0.2)"
   ]
  },
  {
   "cell_type": "markdown",
   "id": "cb92e9ea",
   "metadata": {},
   "source": [
    "* Que3) In the old days, there was a probability of 0.8 of success in any attempt to make a telephone call. (This often depended on the importance of the person making the call, or the operator's curiosity!) Calculate the probability of having 7 successes in 10 attempts."
   ]
  },
  {
   "cell_type": "code",
   "execution_count": 14,
   "id": "daa0f7a0",
   "metadata": {},
   "outputs": [
    {
     "data": {
      "text/plain": [
       "0.20132659199999978"
      ]
     },
     "execution_count": 14,
     "metadata": {},
     "output_type": "execute_result"
    }
   ],
   "source": [
    "binom.pmf(7,10,0.8)"
   ]
  },
  {
   "cell_type": "markdown",
   "id": "62a80ec3",
   "metadata": {},
   "source": [
    " * Que4) The probability that a person can achieve a target is 3/4. The count of tries is 5. What is the probability that he will attain the target at least thrice?\n"
   ]
  },
  {
   "cell_type": "code",
   "execution_count": 19,
   "id": "8bd9dd86",
   "metadata": {},
   "outputs": [
    {
     "data": {
      "text/plain": [
       "0.8964843749999999"
      ]
     },
     "execution_count": 19,
     "metadata": {},
     "output_type": "execute_result"
    }
   ],
   "source": [
    "binom.pmf(3,5,0.75)+binom.pmf(4,5,0.75)+binom.pmf(5,5,0.75)"
   ]
  },
  {
   "cell_type": "markdown",
   "id": "add898fa",
   "metadata": {},
   "source": [
    "* Que5) A pharmaceutical lab states that a drug causes negative side effects in 3 of every 100 patients. To confirm this affirmation, another laboratory chooses 5 people at random who have consumed the drug. What is the probability of the following events?\n",
    " 1.None of the five patients experience side effects.\n",
    " 2.At least two experience side effects.\n"
   ]
  },
  {
   "cell_type": "code",
   "execution_count": 26,
   "id": "824250a8",
   "metadata": {},
   "outputs": [
    {
     "data": {
      "text/plain": [
       "0.8587340256999999"
      ]
     },
     "execution_count": 26,
     "metadata": {},
     "output_type": "execute_result"
    }
   ],
   "source": [
    "binom.pmf(0,5,0.03)"
   ]
  },
  {
   "cell_type": "code",
   "execution_count": 34,
   "id": "e8b47f9f",
   "metadata": {},
   "outputs": [
    {
     "data": {
      "text/plain": [
       "0.008472052800000074"
      ]
     },
     "execution_count": 34,
     "metadata": {},
     "output_type": "execute_result"
    }
   ],
   "source": [
    "1-(binom.pmf(0,5,0.03)+binom.pmf(1,5,0.03))"
   ]
  },
  {
   "cell_type": "markdown",
   "id": "cb6fdd9f",
   "metadata": {},
   "source": [
    "* Que6).Your basketball team is playing a series of 5 games against your opponent.                 The winner is those who wins more games (out of 5).Let assume that your team is    much more skilled and has 75% chances of winning. It means there is a 25% chance of losing.\n",
    "What is the probability of your team get 3 wins?\n"
   ]
  },
  {
   "cell_type": "code",
   "execution_count": 35,
   "id": "fb586bcf",
   "metadata": {},
   "outputs": [
    {
     "data": {
      "text/plain": [
       "0.26367187499999983"
      ]
     },
     "execution_count": 35,
     "metadata": {},
     "output_type": "execute_result"
    }
   ],
   "source": [
    "binom.pmf(3,5,0.75)  "
   ]
  },
  {
   "cell_type": "markdown",
   "id": "2bb6f69c",
   "metadata": {},
   "source": [
    " * Que7) If X is binomially distributed with 6 trials and a probability of success equal to 1 4 at each attempt, what is the probability of:\n",
    " (a) exactly 4 successes \n",
    " (b) at least one success?\n"
   ]
  },
  {
   "cell_type": "code",
   "execution_count": 52,
   "id": "de03d1ab",
   "metadata": {},
   "outputs": [
    {
     "name": "stdout",
     "output_type": "stream",
     "text": [
      "0.03295898437499997\n",
      "0.822021484375\n"
     ]
    }
   ],
   "source": [
    " a=binom.pmf(4,6,0.25)\n",
    "print(a)\n",
    "b=(1-binom.pmf(0,6,0.25))\n",
    "print(b)"
   ]
  },
  {
   "cell_type": "markdown",
   "id": "af9df866",
   "metadata": {},
   "source": [
    "* Que8) There are 10 balls  in a bowl ,  3 of the balls are red and 7 of them are blue. If  drawing a red ball is defined as success and sampling is with replacement, find the probability of getting 5 red balls in 20 trials.\n",
    "\n"
   ]
  },
  {
   "cell_type": "code",
   "execution_count": 44,
   "id": "71ad46f3",
   "metadata": {},
   "outputs": [
    {
     "data": {
      "text/plain": [
       "0.0015704842378120411"
      ]
     },
     "execution_count": 44,
     "metadata": {},
     "output_type": "execute_result"
    }
   ],
   "source": [
    "binom.pmf(3,10,0.025)"
   ]
  },
  {
   "cell_type": "markdown",
   "id": "e1e90d35",
   "metadata": {},
   "source": [
    "# Poisson distribution\n",
    "* Que-A manufacturer knows that the bulb he makes consists of 2% of bulbs as defective.If he makes 200 bulbs then what is the probability that less than 4 bulbs are defective.\n"
   ]
  },
  {
   "cell_type": "code",
   "execution_count": 5,
   "id": "5c21d5dd",
   "metadata": {},
   "outputs": [
    {
     "data": {
      "text/plain": [
       "0.43347012036670896"
      ]
     },
     "execution_count": 5,
     "metadata": {},
     "output_type": "execute_result"
    }
   ],
   "source": [
    "poisson.cdf(3,4) # x=4, mean=3"
   ]
  },
  {
   "cell_type": "markdown",
   "id": "3e6e6472",
   "metadata": {},
   "source": [
    "* Que2) Telephone calls arrive at an average rate of 5 calls every 15 minutes at Slippers All Inclusive reservation desk. What is the probability that less than 3 calls will arrive in any 15 minutes?\n"
   ]
  },
  {
   "cell_type": "code",
   "execution_count": 46,
   "id": "8a96c152",
   "metadata": {},
   "outputs": [
    {
     "data": {
      "text/plain": [
       "0.0027924293327009145"
      ]
     },
     "execution_count": 46,
     "metadata": {},
     "output_type": "execute_result"
    }
   ],
   "source": [
    "poisson.cdf(5,15)  #mean=5,x=15"
   ]
  },
  {
   "cell_type": "markdown",
   "id": "b1e8d17a",
   "metadata": {},
   "source": [
    "* Que3)If 3% of electronic units manufactured by a company are defective. Find the probability that in a sample of 200 units, less than 2 bulbs are defective.\n"
   ]
  },
  {
   "cell_type": "code",
   "execution_count": 26,
   "id": "10e1fd90",
   "metadata": {},
   "outputs": [
    {
     "data": {
      "text/plain": [
       "0.01735126523666451"
      ]
     },
     "execution_count": 26,
     "metadata": {},
     "output_type": "execute_result"
    }
   ],
   "source": [
    "#poisson.pmf(0,6)+poisson.pmf(1,6)\n",
    "poisson.cdf(1,6)\n"
   ]
  },
  {
   "cell_type": "markdown",
   "id": "9cb73ea3",
   "metadata": {},
   "source": [
    "* Que4) As only 3 students came to attend the class today, find the probability for exactly 4 students to attend the classes tomorrow.\n"
   ]
  },
  {
   "cell_type": "code",
   "execution_count": 72,
   "id": "5cfb1b82",
   "metadata": {},
   "outputs": [
    {
     "data": {
      "text/plain": [
       "0.16803135574154085"
      ]
     },
     "execution_count": 72,
     "metadata": {},
     "output_type": "execute_result"
    }
   ],
   "source": [
    "poisson.pmf(4,3)"
   ]
  },
  {
   "cell_type": "markdown",
   "id": "3c5523a1",
   "metadata": {},
   "source": [
    "* Que5) In a cafe, the customer arrives at a mean rate of 2 per min. Find the probability of arrival of 5 customers in 1 minute using the Poisson distribution formula.\n",
    "\n"
   ]
  },
  {
   "cell_type": "code",
   "execution_count": 74,
   "id": "e809bbfa",
   "metadata": {},
   "outputs": [
    {
     "data": {
      "text/plain": [
       "0.03608940886309672"
      ]
     },
     "execution_count": 74,
     "metadata": {},
     "output_type": "execute_result"
    }
   ],
   "source": [
    "poisson.pmf(5,2)\n"
   ]
  },
  {
   "cell_type": "markdown",
   "id": "5bce1495",
   "metadata": {},
   "source": [
    "* Que6) If the random variable X follows a Poisson distribution with mean 3.4, \n",
    "find P (X = 6) .\n"
   ]
  },
  {
   "cell_type": "code",
   "execution_count": 76,
   "id": "41d70643",
   "metadata": {},
   "outputs": [
    {
     "data": {
      "text/plain": [
       "0.07160440945982202"
      ]
     },
     "execution_count": 76,
     "metadata": {},
     "output_type": "execute_result"
    }
   ],
   "source": [
    "poisson.pmf(6,3.4)"
   ]
  },
  {
   "cell_type": "markdown",
   "id": "ecae5e9c",
   "metadata": {},
   "source": [
    "* Que7) >A Council is considering whether to base a recovery vehicle on a stretch of road to help clear incidents as quickly as possible. The road concerned carries over 5000 vehicles during the peak rush hour period. Records show that, on average, the number of incidents during the morning rush hour is 5. The Council won’t base a vehicle on the road if the probability of having more than 5 incidents in any one morning is less than 30%. Based on this information should the Council provide a vehicle? \n"
   ]
  },
  {
   "cell_type": "code",
   "execution_count": 78,
   "id": "7137b966",
   "metadata": {},
   "outputs": [
    {
     "data": {
      "text/plain": [
       "0.615960654833063"
      ]
     },
     "execution_count": 78,
     "metadata": {},
     "output_type": "execute_result"
    }
   ],
   "source": [
    "poisson.pmf(0,5)+poisson.pmf(1,5)+poisson.pmf(2,5)+poisson.pmf(3,5)+poisson.pmf(4,5)+poisson.pmf(5,5)"
   ]
  },
  {
   "cell_type": "markdown",
   "id": "cf727cd3",
   "metadata": {},
   "source": [
    "* Que6) An automobile company has average defects per unit (DPU) 0f 0.3, what is the probability they would find 3 defects in a vehicle? Here we can use Poisson distribution to calculate the probability.\n",
    "\n"
   ]
  },
  {
   "cell_type": "code",
   "execution_count": 75,
   "id": "51430f52",
   "metadata": {},
   "outputs": [
    {
     "data": {
      "text/plain": [
       "0.0033336819930677277"
      ]
     },
     "execution_count": 75,
     "metadata": {},
     "output_type": "execute_result"
    }
   ],
   "source": [
    "poisson.pmf(3,0.3)"
   ]
  },
  {
   "cell_type": "markdown",
   "id": "f7c9593d",
   "metadata": {},
   "source": [
    "* Que3) An average of 0.61 soldiers died by horse kicks per year in each Prussian army corps. You want to calculate the probability that exactly two soldiers died in the VII Army Corps in 1898, assuming that the number of horse kick deaths per year follows a Poisson distribution.\n"
   ]
  },
  {
   "cell_type": "code",
   "execution_count": 55,
   "id": "225d4874",
   "metadata": {},
   "outputs": [
    {
     "data": {
      "text/plain": [
       "0.10109042919131071"
      ]
     },
     "execution_count": 55,
     "metadata": {},
     "output_type": "execute_result"
    }
   ],
   "source": [
    "poisson.pmf(2,0.61)"
   ]
  },
  {
   "cell_type": "markdown",
   "id": "96b9f824",
   "metadata": {},
   "source": [
    "* Que4) The mean number of power outages in the city of Brunswick is 4 per year. Find the probability that in a given year,\n",
    "a)there are exactly 3 outages,\n",
    "b)there are more than 3 outages.\n"
   ]
  },
  {
   "cell_type": "code",
   "execution_count": 57,
   "id": "61be53fe",
   "metadata": {},
   "outputs": [
    {
     "data": {
      "text/plain": [
       "0.19536681481316454"
      ]
     },
     "execution_count": 57,
     "metadata": {},
     "output_type": "execute_result"
    }
   ],
   "source": [
    "a= poisson.pmf(3,4)\n",
    "print(a)\n",
    "b= poisson.pmf()"
   ]
  },
  {
   "cell_type": "markdown",
   "id": "dce60ea4",
   "metadata": {},
   "source": [
    "# Gepmetric distribution\n",
    "* Que- Suppose Max owns a lightbulb manufacturing company and determines 3 out of every 75 bulbs are defective.what is the probability that max will find the first faulty lightbulb on the 6th one that he tested?\n"
   ]
  },
  {
   "cell_type": "code",
   "execution_count": 4,
   "id": "f982b110",
   "metadata": {},
   "outputs": [
    {
     "data": {
      "text/plain": [
       "0.032614907904"
      ]
     },
     "execution_count": 4,
     "metadata": {},
     "output_type": "execute_result"
    }
   ],
   "source": [
    "nbinom.pmf(k=5,n=1,p=0.04) "
   ]
  },
  {
   "cell_type": "markdown",
   "id": "39571090",
   "metadata": {},
   "source": [
    "* Que2) Suppose you are playing a game of darts. The probability of success is 0.4. What is the probability that you will hit the bullseye on the 3rd try?\n"
   ]
  },
  {
   "cell_type": "code",
   "execution_count": 6,
   "id": "2652e980",
   "metadata": {
    "scrolled": true
   },
   "outputs": [
    {
     "data": {
      "text/plain": [
       "0.14400000000000002"
      ]
     },
     "execution_count": 6,
     "metadata": {},
     "output_type": "execute_result"
    }
   ],
   "source": [
    "nbinom.pmf(k=2,n=1,p=0.4)"
   ]
  },
  {
   "cell_type": "markdown",
   "id": "8201b365",
   "metadata": {},
   "source": [
    "* Que3)A light bulb manufacturing factory finds 3 in every 60 light bulbs defective. What is the probability that the first defective light bulb with be found when the 6th one is tested?\n",
    "\n"
   ]
  },
  {
   "cell_type": "code",
   "execution_count": 17,
   "id": "26219c2f",
   "metadata": {},
   "outputs": [
    {
     "data": {
      "text/plain": [
       "0.03675459453125"
      ]
     },
     "execution_count": 17,
     "metadata": {},
     "output_type": "execute_result"
    }
   ],
   "source": [
    "nbinom.pmf(k=6,n=1,p=0.05)"
   ]
  },
  {
   "cell_type": "markdown",
   "id": "027c83cd",
   "metadata": {},
   "source": [
    "* Que4) In a class there are 35% students  doing their homework regularly.if from this class students are selected randomly ,what is the probability that the 5th student’s homework is the 1st that has completed their homework?"
   ]
  },
  {
   "cell_type": "code",
   "execution_count": 18,
   "id": "7ada2398",
   "metadata": {},
   "outputs": [
    {
     "data": {
      "text/plain": [
       "0.040610171875000024"
      ]
     },
     "execution_count": 18,
     "metadata": {},
     "output_type": "execute_result"
    }
   ],
   "source": [
    "nbinom.pmf(k=5,n=1,p=0.35)"
   ]
  },
  {
   "cell_type": "markdown",
   "id": "14036f7a",
   "metadata": {},
   "source": [
    "* Que5) Suppose it’s known that 4% of individuals who visit a certain bank are visiting to file bankruptcy. Suppose a banker wants to know the probability that he will meet with less than 10 people before encountering someone who is filing for bankruptcy.\n"
   ]
  },
  {
   "cell_type": "code",
   "execution_count": 19,
   "id": "4ff3f199",
   "metadata": {},
   "outputs": [
    {
     "data": {
      "text/plain": [
       "0.33516736400849895"
      ]
     },
     "execution_count": 19,
     "metadata": {},
     "output_type": "execute_result"
    }
   ],
   "source": [
    "nbinom.cdf(k=9,n=1,p=0.04)"
   ]
  },
  {
   "cell_type": "markdown",
   "id": "26a40f86",
   "metadata": {},
   "source": [
    "* Que6) Suppose you are playing a game of darts. The probability of success is 0.8. What is the probability that you will hit the bullseye on the third try?\n",
    "\n"
   ]
  },
  {
   "cell_type": "code",
   "execution_count": 21,
   "id": "8cf2c5ab",
   "metadata": {},
   "outputs": [
    {
     "data": {
      "text/plain": [
       "0.031999999999999966"
      ]
     },
     "execution_count": 21,
     "metadata": {},
     "output_type": "execute_result"
    }
   ],
   "source": [
    "nbinom.pmf(k=2,n=1,p=0.8)"
   ]
  },
  {
   "cell_type": "markdown",
   "id": "0d73ccd0",
   "metadata": {},
   "source": [
    "* Que7)If your probability of success is 0.2, what is the probability you meet an independent voter on your third try?  Inserting 0.2 as p and with X = 3, the probability density function becomes:\n",
    "\n"
   ]
  },
  {
   "cell_type": "code",
   "execution_count": 11,
   "id": "c18579a1",
   "metadata": {},
   "outputs": [
    {
     "data": {
      "text/plain": [
       "0.12799999999999997"
      ]
     },
     "execution_count": 11,
     "metadata": {},
     "output_type": "execute_result"
    }
   ],
   "source": [
    "nbinom.pmf(k=2,n=1,p=0.2)"
   ]
  },
  {
   "cell_type": "markdown",
   "id": "c3f86f2c",
   "metadata": {},
   "source": [
    "* Que8)Matthew is a high school basketball player and a 75% free throw shooter. Calculate what will be the probability that Matthew makes his first free throw on his fifth shot?\n",
    "\n"
   ]
  },
  {
   "cell_type": "code",
   "execution_count": 12,
   "id": "8d8e63fd",
   "metadata": {},
   "outputs": [
    {
     "data": {
      "text/plain": [
       "0.0029296875000000004"
      ]
     },
     "execution_count": 12,
     "metadata": {},
     "output_type": "execute_result"
    }
   ],
   "source": [
    "nbinom.pmf(k=4,n=1,p=0.75)"
   ]
  },
  {
   "cell_type": "markdown",
   "id": "635f3d32",
   "metadata": {},
   "source": [
    "* Que9)You play a game of chance that you can either win or lose (there are no other possibilities) until you lose. Your probability of losing is \n",
    "p=\n",
    "0.57\n",
    ". What is the probability that it takes five games until you lose?\n",
    "\n"
   ]
  },
  {
   "cell_type": "code",
   "execution_count": 13,
   "id": "b1d48856",
   "metadata": {},
   "outputs": [
    {
     "data": {
      "text/plain": [
       "0.019487165700000017"
      ]
     },
     "execution_count": 13,
     "metadata": {},
     "output_type": "execute_result"
    }
   ],
   "source": [
    "nbinom.pmf(k=4,n=1,p=0.57)"
   ]
  },
  {
   "cell_type": "markdown",
   "id": "5a1df770",
   "metadata": {},
   "source": [
    "* Que10)If the probability that a certain test yields a positive reaction is equal to 0.4 .\n",
    "What is the probability that less than 5 negative reactions  occurs before the first positive one\n"
   ]
  },
  {
   "cell_type": "code",
   "execution_count": 16,
   "id": "8dd22b2f",
   "metadata": {},
   "outputs": [
    {
     "data": {
      "text/plain": [
       "0.05184000000000004"
      ]
     },
     "execution_count": 16,
     "metadata": {},
     "output_type": "execute_result"
    }
   ],
   "source": [
    "nbinom.pmf(k=4,n=1,p=0.4)"
   ]
  },
  {
   "cell_type": "code",
   "execution_count": 22,
   "id": "44e5f474",
   "metadata": {},
   "outputs": [
    {
     "data": {
      "text/plain": [
       "0.0964506172839506"
      ]
     },
     "execution_count": 22,
     "metadata": {},
     "output_type": "execute_result"
    }
   ],
   "source": [
    "nbinom.pmf(k=3,n=1,p=1/6)"
   ]
  }
 ],
 "metadata": {
  "kernelspec": {
   "display_name": "Python 3 (ipykernel)",
   "language": "python",
   "name": "python3"
  },
  "language_info": {
   "codemirror_mode": {
    "name": "ipython",
    "version": 3
   },
   "file_extension": ".py",
   "mimetype": "text/x-python",
   "name": "python",
   "nbconvert_exporter": "python",
   "pygments_lexer": "ipython3",
   "version": "3.9.12"
  }
 },
 "nbformat": 4,
 "nbformat_minor": 5
}
