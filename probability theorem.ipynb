{
 "cells": [
  {
   "cell_type": "markdown",
   "id": "f34be0b5",
   "metadata": {},
   "source": [
    "# Additional Theorem"
   ]
  },
  {
   "cell_type": "markdown",
   "id": "a0584c8e",
   "metadata": {},
   "source": [
    "* Que1)If A and B are mutually exclusive events p(A)=⅜ and p(B)=⅛ ,the find\n",
    "       1)p(A’)\n",
    "       2)p(AUB) \n"
   ]
  },
  {
   "cell_type": "code",
   "execution_count": 11,
   "id": "dcb6469a",
   "metadata": {},
   "outputs": [
    {
     "name": "stdout",
     "output_type": "stream",
     "text": [
      "p(A)= 0.625\n",
      "a_union_b= 0.5\n"
     ]
    }
   ],
   "source": [
    "#1)\n",
    "p_a=3/8\n",
    "a = 1-p_a\n",
    "print(\"p(A)=\",a)\n",
    "#2)\n",
    "p_a=3/8\n",
    "p_b=1/8\n",
    "a_and_b = 0\n",
    "a_union_b = p_a+p_b-a_and_b\n",
    "print(\"a_union_b=\",a_union_b)"
   ]
  },
  {
   "cell_type": "markdown",
   "id": "3c128d1c",
   "metadata": {},
   "source": [
    "* Que2)If the probability of solving a problem by 2 students George and James are 1/2 and 1/3 respectively then what is the probability of the problem to be solved.\n"
   ]
  },
  {
   "cell_type": "code",
   "execution_count": 15,
   "id": "35255b12",
   "metadata": {},
   "outputs": [
    {
     "data": {
      "text/plain": [
       "0.6666666666666666"
      ]
     },
     "execution_count": 15,
     "metadata": {},
     "output_type": "execute_result"
    }
   ],
   "source": [
    "p_a = 1/2\n",
    "p_b = 1/3\n",
    "a_and_b = 1/2*1/3\n",
    "a_union_b = p_a+p_b-a_and_b\n",
    "a_union_b"
   ]
  },
  {
   "cell_type": "code",
   "execution_count": null,
   "id": "636479f2",
   "metadata": {},
   "outputs": [],
   "source": []
  },
  {
   "cell_type": "markdown",
   "id": "06af8790",
   "metadata": {},
   "source": [
    " * Que3)What is the probability of drawing either a king or a queen in a single draw from a well shuffled pack of 52 cards?\n"
   ]
  },
  {
   "cell_type": "code",
   "execution_count": 9,
   "id": "20b79487",
   "metadata": {},
   "outputs": [
    {
     "data": {
      "text/plain": [
       "0.15384615384615385"
      ]
     },
     "execution_count": 9,
     "metadata": {},
     "output_type": "execute_result"
    }
   ],
   "source": [
    "p_a=4/52\n",
    "p_b=4/52\n",
    "a_and_b = 0\n",
    "a_union_b = p_a+p_b-a_and_b\n",
    "a_union_b"
   ]
  },
  {
   "cell_type": "markdown",
   "id": "75ce5591",
   "metadata": {},
   "source": [
    "* Que4)  A and B are two candidates seeking admission to IIT. The probability that A getting selected is 0.5, the probability of B getting selected is 0.7 and the probability that both A and B getting selected is 0.3. What is the probability that it could be either candidate A or B.\n",
    "\n"
   ]
  },
  {
   "cell_type": "code",
   "execution_count": 16,
   "id": "a20d4fa2",
   "metadata": {},
   "outputs": [
    {
     "data": {
      "text/plain": [
       "0.8999999999999999"
      ]
     },
     "execution_count": 16,
     "metadata": {},
     "output_type": "execute_result"
    }
   ],
   "source": [
    "p_a = 0.5\n",
    "p_b = 0.7\n",
    "a_and_b = 0.3\n",
    "a_union_b = p_a+p_b-a_and_b\n",
    "a_union_b"
   ]
  },
  {
   "cell_type": "markdown",
   "id": "2a7bbaf3",
   "metadata": {},
   "source": [
    "* Que5) A bag contains 30 balls numbered from 1 to 30. One ball is drawn at random, find the probability that the number of the ball will be multiple of 5 or 9.\n",
    "\n"
   ]
  },
  {
   "cell_type": "code",
   "execution_count": 1,
   "id": "c76d3994",
   "metadata": {},
   "outputs": [
    {
     "data": {
      "text/plain": [
       "0.30000000000000004"
      ]
     },
     "execution_count": 1,
     "metadata": {},
     "output_type": "execute_result"
    }
   ],
   "source": [
    "p_a = 6/30\n",
    "p_b = 3/30\n",
    "p_and_b = 0\n",
    "a_union_b = p_a+p_b-p_and_b\n",
    "a_union_b"
   ]
  },
  {
   "cell_type": "markdown",
   "id": "179868b3",
   "metadata": {},
   "source": [
    "* Que6)A die is thrown twice. Let A be the event, ‘First die shows 5’ and B be the event, ‘second die shows 5’. Find P(A∪B) ..\n"
   ]
  },
  {
   "cell_type": "code",
   "execution_count": 22,
   "id": "e8cb3456",
   "metadata": {},
   "outputs": [
    {
     "data": {
      "text/plain": [
       "0.3055555555555555"
      ]
     },
     "execution_count": 22,
     "metadata": {},
     "output_type": "execute_result"
    }
   ],
   "source": [
    "p_a = 6/36\n",
    "p_b = 6/36\n",
    "a_and_b = 1/36\n",
    "a_union_b = p_a+p_b-a_and_b\n",
    "a_union_b"
   ]
  },
  {
   "cell_type": "markdown",
   "id": "18ada842",
   "metadata": {},
   "source": [
    "* Que7)Two dice are tossed once. Find the probability of getting an even number on first dice or a total of 8.\n",
    "\n"
   ]
  },
  {
   "cell_type": "code",
   "execution_count": 23,
   "id": "af61ca09",
   "metadata": {},
   "outputs": [
    {
     "data": {
      "text/plain": [
       "0.5555555555555555"
      ]
     },
     "execution_count": 23,
     "metadata": {},
     "output_type": "execute_result"
    }
   ],
   "source": [
    "p_a = 18/36\n",
    "p_b = 5/36\n",
    "a_and_b = 3/36\n",
    "a_union_b = p_a + p_b - a_and_b\n",
    "a_union_b"
   ]
  },
  {
   "cell_type": "markdown",
   "id": "5f98c46e",
   "metadata": {},
   "source": [
    "* Que8)A person can hit a target in 3 out 4 shots, whereas another person can hit the target in 2 out of 3 shots. Find the probability of the targets being hit at all when they both try.\n"
   ]
  },
  {
   "cell_type": "code",
   "execution_count": 26,
   "id": "2b40710c",
   "metadata": {},
   "outputs": [
    {
     "data": {
      "text/plain": [
       "1.3333333333333333"
      ]
     },
     "execution_count": 26,
     "metadata": {},
     "output_type": "execute_result"
    }
   ],
   "source": [
    "p_a = 3/4\n",
    "p_b = 2/3\n",
    "a_and_b = 1/12\n",
    "a_union_b = p_a + p_b - a_and_b\n",
    "a_union_b"
   ]
  },
  {
   "cell_type": "markdown",
   "id": "4f6361ef",
   "metadata": {},
   "source": [
    "* Que 9) If A and B are two events associated with a random experiment for which P(A) = 0.35, P(A or B) = 0.85, and P(A and B) = 0.15. \n",
    "Find \n",
    "        (i) P(only B)\n",
    "        (ii) P(B') \n",
    "        (iii) P(only A)\n"
   ]
  },
  {
   "cell_type": "code",
   "execution_count": 38,
   "id": "82da7c7a",
   "metadata": {},
   "outputs": [
    {
     "name": "stdout",
     "output_type": "stream",
     "text": [
      "p_b= 0.6666666666666666\n",
      "a= 0.33333333333333337\n",
      "only_a= 0.19999999999999998\n"
     ]
    }
   ],
   "source": [
    "p_a = 0.35\n",
    "a_union_b = 0.85\n",
    "a_and_b = 0.15\n",
    "\n",
    "#1)\n",
    "a_union_b = p_a + p_b - a_and_b\n",
    "print(\"p_b=\",p_b)\n",
    "#2_\n",
    "a = 1-p_b\n",
    "print(\"a=\",a)\n",
    "\n",
    "#3)\n",
    "only_a = p_a - a_and_b\n",
    "print(\"only_a=\",only_a)\n",
    "\n",
    "\n",
    "\n",
    "\n"
   ]
  },
  {
   "cell_type": "markdown",
   "id": "29c932bd",
   "metadata": {},
   "source": [
    "* Que10)Consider an experiment of rolling a fair die .Let A be the event that an even number appears . B = a number bigger than 3 occurs . Find the probability that the number appearing on the uppermost face is either even or bigger than 3..\n",
    "\n"
   ]
  },
  {
   "cell_type": "markdown",
   "id": "c629be59",
   "metadata": {},
   "source": [
    "* Que11) A number is selected from the first 20 natural numbers. Find the probability that it would be divisible by 3 or 7?\n"
   ]
  },
  {
   "cell_type": "code",
   "execution_count": 42,
   "id": "3a0dcfef",
   "metadata": {},
   "outputs": [
    {
     "data": {
      "text/plain": [
       "0.4"
      ]
     },
     "execution_count": 42,
     "metadata": {},
     "output_type": "execute_result"
    }
   ],
   "source": [
    "p_a = 6/20\n",
    "p_b = 2/20\n",
    "a_and_b = 0\n",
    "a_union_b = p_a + p_b - a_and_b\n",
    "a_union_b"
   ]
  },
  {
   "cell_type": "markdown",
   "id": "832dba8c",
   "metadata": {},
   "source": [
    " * Que12)If A and B are two events such thatP (A) = 1/4 , P (B) = 1/2 and P(A and B)= 1/8, find (i) P (A or B) (ii) P(not A and not B).\n",
    "\n"
   ]
  },
  {
   "cell_type": "code",
   "execution_count": 53,
   "id": "3ae4273e",
   "metadata": {},
   "outputs": [
    {
     "name": "stdout",
     "output_type": "stream",
     "text": [
      "a_union_b 0.625\n",
      "not A and not B 0.375\n"
     ]
    }
   ],
   "source": [
    "p_a = 1/4\n",
    "p_b = 1/2\n",
    "a_and_b = 1/8\n",
    "\n",
    "#1)\n",
    "a_union_b = p_a + p_b - a_and_b\n",
    "print(\"a_union_b=\",a_union_b)\n",
    "\n",
    "#2)\n",
    "P_s = 1 - a_union_b\n",
    "print(\"not A and not B=\",P_s)\n"
   ]
  },
  {
   "cell_type": "markdown",
   "id": "7dd54767",
   "metadata": {},
   "source": [
    "# Multiplication Theorem"
   ]
  },
  {
   "cell_type": "markdown",
   "id": "2b854b06",
   "metadata": {},
   "source": [
    "* Que1- A bag contains 15 red and 5 blue balls.without the replacement of the balls,two balls       are drawn from a  bag one after the other.what is the probability of picking both the balls as red?\n",
    "\n"
   ]
  },
  {
   "cell_type": "code",
   "execution_count": 55,
   "id": "5c3427a7",
   "metadata": {},
   "outputs": [
    {
     "data": {
      "text/plain": [
       "0.5526315789473684"
      ]
     },
     "execution_count": 55,
     "metadata": {},
     "output_type": "execute_result"
    }
   ],
   "source": [
    "p_a = 15/20\n",
    "p_b = 14/19\n",
    "a_and_b = p_a *  p_b\n",
    "a_and_b"
   ]
  },
  {
   "cell_type": "markdown",
   "id": "1ac19647",
   "metadata": {},
   "source": [
    "* Que2)What is the probability of getting a 51 and then a 2 with the normal 6-sided die?\n"
   ]
  },
  {
   "cell_type": "code",
   "execution_count": 6,
   "id": "1a5fbcbd",
   "metadata": {},
   "outputs": [
    {
     "data": {
      "text/plain": [
       "0.3055555555555555"
      ]
     },
     "execution_count": 6,
     "metadata": {},
     "output_type": "execute_result"
    }
   ],
   "source": [
    "p_a = 1/6\n",
    "p_b = 1/6\n",
    "a_and_b = 1/36\n",
    "a_union_b = p_a + p_b - a_and_b\n",
    "a_union_b"
   ]
  },
  {
   "cell_type": "markdown",
   "id": "da1d4d7f",
   "metadata": {},
   "source": [
    "* Que3)cards are Two selected without replacing the first card from the deck. Find the probability of selecting a king and then selecting a queen.\n"
   ]
  },
  {
   "cell_type": "code",
   "execution_count": 16,
   "id": "baa7717c",
   "metadata": {},
   "outputs": [
    {
     "data": {
      "text/plain": [
       "0.006033182503770739"
      ]
     },
     "execution_count": 16,
     "metadata": {},
     "output_type": "execute_result"
    }
   ],
   "source": [
    "p_a = 4/52\n",
    "p_b = 4/51\n",
    "a_and_b = p_a * p_b\n",
    "a_and_b"
   ]
  },
  {
   "cell_type": "markdown",
   "id": "e8fb4b40",
   "metadata": {},
   "source": [
    "* Que4) Find the probability of drawing a diamond card in each of the two consecutive draws from a well shuffled pack of cards, if the card drawn is not replaced after the first draw?\n",
    " \n"
   ]
  },
  {
   "cell_type": "code",
   "execution_count": 8,
   "id": "7b8ce005",
   "metadata": {},
   "outputs": [
    {
     "data": {
      "text/plain": [
       "0.057692307692307696"
      ]
     },
     "execution_count": 8,
     "metadata": {},
     "output_type": "execute_result"
    }
   ],
   "source": [
    "p_a = 13/52\n",
    "p_b = 12/52\n",
    "a_and_b = p_a * p_b\n",
    "a_and_b"
   ]
  },
  {
   "cell_type": "markdown",
   "id": "041cf85f",
   "metadata": {},
   "source": [
    "* Que5)There are 19 tickets, numbered from 1 to 19. A ticket is drawn and then another ticket is drawn without replacement. Find the probability that both tickets will show even numbers.\n"
   ]
  },
  {
   "cell_type": "code",
   "execution_count": 11,
   "id": "0f92daf2",
   "metadata": {},
   "outputs": [
    {
     "data": {
      "text/plain": [
       "0.21052631578947367"
      ]
     },
     "execution_count": 11,
     "metadata": {},
     "output_type": "execute_result"
    }
   ],
   "source": [
    "p_a = 9/19   # 2,4,6,8,10,12,14,16,18\n",
    "p_b = 8/18   # 2,4,6,8,10,12,14,16\n",
    "a_and_b = p_a * p_b\n",
    "a_and_b"
   ]
  },
  {
   "cell_type": "markdown",
   "id": "5de41ad2",
   "metadata": {},
   "source": [
    "* Que6)A bag contains 4 red balls, 3 white balls and 5 black balls. Two balls are drawn one after the other with replacement. Find the probability that first is red and the second is black.\n",
    "\n"
   ]
  },
  {
   "cell_type": "code",
   "execution_count": 13,
   "id": "4d8311ee",
   "metadata": {},
   "outputs": [
    {
     "data": {
      "text/plain": [
       "0.1388888888888889"
      ]
     },
     "execution_count": 13,
     "metadata": {},
     "output_type": "execute_result"
    }
   ],
   "source": [
    "p_a = 4/12\n",
    "p_b = 5/12\n",
    "a_and_b = p_a * p_b\n",
    "a_and_b"
   ]
  },
  {
   "cell_type": "markdown",
   "id": "10049196",
   "metadata": {},
   "source": [
    "* Que7)A bag contains 5 green and 7 red balls. Two balls are drawn. Find the probability that one is green and the other is red.\n"
   ]
  },
  {
   "cell_type": "code",
   "execution_count": 15,
   "id": "54d68b9f",
   "metadata": {},
   "outputs": [
    {
     "data": {
      "text/plain": [
       "0.24305555555555558"
      ]
     },
     "execution_count": 15,
     "metadata": {},
     "output_type": "execute_result"
    }
   ],
   "source": [
    "p_a = 5/12\n",
    "p_b = 7/12\n",
    "a_and_b = p_a * p_b\n",
    "a_and_b"
   ]
  },
  {
   "cell_type": "markdown",
   "id": "258f798b",
   "metadata": {},
   "source": [
    "* Que8)It is 8:5 against the wife who is 40 years old living till she is 70 and 4:3 against her husband now 50 living till he is 80. Find the probability that \n",
    "\n"
   ]
  },
  {
   "cell_type": "code",
   "execution_count": 17,
   "id": "57dbba90",
   "metadata": {},
   "outputs": [
    {
     "data": {
      "text/plain": [
       "0.16483516483516483"
      ]
     },
     "execution_count": 17,
     "metadata": {},
     "output_type": "execute_result"
    }
   ],
   "source": [
    "p_a = 5/13\n",
    "p_b = 3/7\n",
    "a_and_b = p_a * p_b\n",
    "a_and_b"
   ]
  },
  {
   "cell_type": "markdown",
   "id": "318bb812",
   "metadata": {},
   "source": [
    "* Que9)A bag contains 6 black marbles and 4 blue marbles. Two marbles are drawn from the bag, without replacement. What is the probability that both marbles are blue?"
   ]
  },
  {
   "cell_type": "code",
   "execution_count": 20,
   "id": "4954f2a3",
   "metadata": {},
   "outputs": [
    {
     "data": {
      "text/plain": [
       "0.2857142857142857"
      ]
     },
     "execution_count": 20,
     "metadata": {},
     "output_type": "execute_result"
    }
   ],
   "source": [
    "p_a = 3/7\n",
    "p_b = 2/3\n",
    "a_and_b = p_a * p_b\n",
    "a_and_b"
   ]
  },
  {
   "cell_type": "markdown",
   "id": "6710014c",
   "metadata": {},
   "source": [
    "* Que10)A lot contains  12 items of which 4 are defective.Two items are drawn at random from the lot one after other (without replacement ).find the probability that both the items are defective .\n",
    "\n"
   ]
  },
  {
   "cell_type": "code",
   "execution_count": 23,
   "id": "2f3261d6",
   "metadata": {},
   "outputs": [
    {
     "data": {
      "text/plain": [
       "0.05555555555555555"
      ]
     },
     "execution_count": 23,
     "metadata": {},
     "output_type": "execute_result"
    }
   ],
   "source": [
    "p_a = 4/12\n",
    "p_b = 2/12\n",
    "a_and_b = p_a * p_b\n",
    "a_and_b"
   ]
  },
  {
   "cell_type": "markdown",
   "id": "df66d1f1",
   "metadata": {},
   "source": [
    "# Bays theorem"
   ]
  },
  {
   "cell_type": "markdown",
   "id": "88f3d25f",
   "metadata": {},
   "source": [
    "* Que1)Three urns contain 6 red, 4 black; 4 red, 6 black, and 5 red, 5 black balls respectively. One of the urns is selected at random and a ball is drawn from it. If the ball drawn is red, find the probability that it is drawn from the first urn.\n"
   ]
  },
  {
   "cell_type": "code",
   "execution_count": 4,
   "id": "f5cd297c",
   "metadata": {},
   "outputs": [
    {
     "data": {
      "text/plain": [
       "0.4066666666666666"
      ]
     },
     "execution_count": 4,
     "metadata": {},
     "output_type": "execute_result"
    }
   ],
   "source": [
    "A1 = 1/3\n",
    "A2 = 1/3\n",
    "A3 = 1/3\n",
    "B_A1 = 0.6\n",
    "B_A2 = 0.4\n",
    "B_A3 = 0.5\n",
    "\n",
    "Prediction = A1*B_A1/A2*B_A2+A3*B_A3\n",
    "Prediction"
   ]
  },
  {
   "cell_type": "markdown",
   "id": "cac365d3",
   "metadata": {},
   "source": [
    "* Que2)A man is known to speak the truth ¾ times. He draws a card and reports it is King .\n",
    "Find the probability that it is actually a King.\n",
    " \n"
   ]
  },
  {
   "cell_type": "code",
   "execution_count": 2,
   "id": "4ddeb2ff",
   "metadata": {},
   "outputs": [
    {
     "data": {
      "text/plain": [
       "0.5"
      ]
     },
     "execution_count": 2,
     "metadata": {},
     "output_type": "execute_result"
    }
   ],
   "source": [
    "A1 = 1/4\n",
    "A2 = 1/4\n",
    "\n",
    "B_A1 = 3/4\n",
    "B_A2 = 3/4\n",
    "\n",
    "Pridiction = (A1*B_A1)/(A1*B_A1+A2*B_A2)\n",
    "Pridiction"
   ]
  },
  {
   "cell_type": "markdown",
   "id": "cc1d49fb",
   "metadata": {},
   "source": [
    "* Que3)A bag I contains 4 white and 6 black balls while another Bag II contains 4 white and 3 black balls. One ball is drawn at random from one of the bags, and it is found to be black. Find the probability that it was drawn from Bag I.\n"
   ]
  },
  {
   "cell_type": "code",
   "execution_count": 6,
   "id": "cd929794",
   "metadata": {},
   "outputs": [
    {
     "data": {
      "text/plain": [
       "0.5882352941176471"
      ]
     },
     "execution_count": 6,
     "metadata": {},
     "output_type": "execute_result"
    }
   ],
   "source": [
    "A1 = 1/2\n",
    "A2 = 1/2\n",
    "\n",
    "B_A1 = 4/10\n",
    "B_A2 = 4/7\n",
    "\n",
    "Prediction = ((A2*B_A2)/(A1*B_A1+A2*B_A2))\n",
    "Prediction"
   ]
  },
  {
   "cell_type": "markdown",
   "id": "c6738b84",
   "metadata": {},
   "source": [
    "* Que4)A bag contains 4 balls. Two balls drawn at random without replacement and are found to be blue.what is the probability that all balls in the bag are blue?\n",
    "\n"
   ]
  },
  {
   "cell_type": "code",
   "execution_count": 8,
   "id": "a842f103",
   "metadata": {},
   "outputs": [
    {
     "data": {
      "text/plain": [
       "0.6"
      ]
     },
     "execution_count": 8,
     "metadata": {},
     "output_type": "execute_result"
    }
   ],
   "source": [
    "A1 = 1/3\n",
    "A2 = 1/3\n",
    "A3 = 1/3\n",
    "\n",
    "B_A1 = 1/6\n",
    "B_A2 = 3/6\n",
    "B_A3 = 1\n",
    "\n",
    "Pridiction = ((A3*B_A3)/(A1*B_A1+A2*B_A2+A3*B_A3))\n",
    "Pridiction              "
   ]
  },
  {
   "cell_type": "markdown",
   "id": "de7777df",
   "metadata": {},
   "source": [
    "* Que5)A bag contains 4 balls. Two balls drawn at random without replacement and are found to be blue.what is the probability that all balls in the bag are blue?"
   ]
  },
  {
   "cell_type": "code",
   "execution_count": 14,
   "id": "74e58abe",
   "metadata": {},
   "outputs": [
    {
     "data": {
      "text/plain": [
       "0.3594771241830066"
      ]
     },
     "execution_count": 14,
     "metadata": {},
     "output_type": "execute_result"
    }
   ],
   "source": [
    "A1 = 1/2\n",
    "A2 = 1/2\n",
    "\n",
    "B_A1 = 7/11\n",
    "B_A2 = 5/14\n",
    "\n",
    "Pridiction = ((A2*B_A2)/(A1*B_A1+A2*B_A2))\n",
    "Pridiction"
   ]
  },
  {
   "cell_type": "markdown",
   "id": "b3ebf5c5",
   "metadata": {},
   "source": [
    "* Que6)If we have to calculate the probability of taking a blue ball from the second bag out of three different bags of balls, where each bag contains three different colour balls viz. red, blue, black."
   ]
  },
  {
   "cell_type": "markdown",
   "id": "2de8d6e0",
   "metadata": {},
   "source": [
    "* Que7)Given the following statistics, what is the probability that a woman has cancer if she has a positive mammogram result?\n",
    "One percent of women over 50 have breast cancer.\n",
    "Ninety percent of women who have breast cancer test positive on mammograms.\n",
    "Eight percent of women will have false positives\n"
   ]
  },
  {
   "cell_type": "markdown",
   "id": "bdf8a038",
   "metadata": {},
   "source": [
    "* Que8)Amy has two bags. Bag I has 7 red and 2 blue balls and bag II has 5 red and 9 blue balls. Amy draws a ball at random and it turns out to be red. Determine the probability that the ball was from the bag I using the Bayes theorem.\n"
   ]
  },
  {
   "cell_type": "code",
   "execution_count": 16,
   "id": "94021110",
   "metadata": {},
   "outputs": [
    {
     "data": {
      "text/plain": [
       "0.6405228758169935"
      ]
     },
     "execution_count": 16,
     "metadata": {},
     "output_type": "execute_result"
    }
   ],
   "source": [
    "A1 = 1/2\n",
    "A2 = 1/2\n",
    "\n",
    "B_A1 = 7/11\n",
    "B_A2 = 5/14\n",
    "\n",
    "Pridiction = ((A1*B_A1)/(A1*B_A1+A2*B_A2))\n",
    "Pridiction"
   ]
  },
  {
   "cell_type": "markdown",
   "id": "35fcb4ec",
   "metadata": {},
   "source": [
    "* Que9)Two urns identical in appearance, contain respectively 3 white and 2 black balls and 2 white and 5 black balls . one urn is selected at random , and a ball is drawn from it . what is the probability that it is black?"
   ]
  },
  {
   "cell_type": "markdown",
   "id": "77f2c0b2",
   "metadata": {},
   "source": [
    "* Que10)An insurance company insured 2000 scooter drivers, 4000 car drivers and 6000 truck drivers. The probability of an accident involving a scooter driver , car driver and a truck driver is 0.01, 0.03, 0.015. One of the insured persons meets with an accident. What is the probability that he is a scooter driver?\n"
   ]
  },
  {
   "cell_type": "code",
   "execution_count": 18,
   "id": "1acf6d34",
   "metadata": {},
   "outputs": [
    {
     "data": {
      "text/plain": [
       "0.01923076923076923"
      ]
     },
     "execution_count": 18,
     "metadata": {},
     "output_type": "execute_result"
    }
   ],
   "source": [
    "A1 = 1/6\n",
    "A2 = 1/3\n",
    "A3 = 1/2\n",
    "\n",
    "B_A1 = 1/100\n",
    "B_A2 = 3/100\n",
    "B_A3 = 15/100\n",
    "\n",
    "Pridiction = ((A1*B_A1)/(A1*B_A1+A2*B_A2+A3*B_A3))\n",
    "Pridiction"
   ]
  },
  {
   "cell_type": "markdown",
   "id": "0988c265",
   "metadata": {},
   "source": [
    "* Que12) A jar containing 8 marbles of which 4 red and 4 blue marbles are there. Find the probability of getting a red given the first obne was red too.\n"
   ]
  },
  {
   "cell_type": "code",
   "execution_count": null,
   "id": "fbb1e438",
   "metadata": {},
   "outputs": [],
   "source": []
  }
 ],
 "metadata": {
  "kernelspec": {
   "display_name": "Python 3 (ipykernel)",
   "language": "python",
   "name": "python3"
  },
  "language_info": {
   "codemirror_mode": {
    "name": "ipython",
    "version": 3
   },
   "file_extension": ".py",
   "mimetype": "text/x-python",
   "name": "python",
   "nbconvert_exporter": "python",
   "pygments_lexer": "ipython3",
   "version": "3.9.12"
  }
 },
 "nbformat": 4,
 "nbformat_minor": 5
}
